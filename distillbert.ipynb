{
 "cells": [
  {
   "cell_type": "markdown",
   "id": "bf2b6b19",
   "metadata": {},
   "source": [
    "### 1. Imports"
   ]
  },
  {
   "cell_type": "code",
   "execution_count": null,
   "id": "da847472",
   "metadata": {},
   "outputs": [
    {
     "name": "stdout",
     "output_type": "stream",
     "text": [
      "Using device: cuda\n",
      "Classes: {0: 'No PII', 1: 'Has PII'}\n"
     ]
    }
   ],
   "source": [
    "import os, re, json, random, numpy as np, pandas as pd, torch\n",
    "from typing import Dict, List, Optional\n",
    "from sklearn.model_selection import train_test_split\n",
    "from sklearn.metrics import classification_report, confusion_matrix\n",
    "import matplotlib.pyplot as plt\n",
    "import evaluate\n",
    "from transformers import (\n",
    "    AutoTokenizer,\n",
    "    AutoConfig,\n",
    "    AutoModelForSequenceClassification,\n",
    "    Trainer,\n",
    "    TrainingArguments,\n",
    "    EarlyStoppingCallback,\n",
    ")\n",
    "from datasets import Dataset, DatasetDict\n",
    "\n",
    "SEED = 42\n",
    "random.seed(SEED)\n",
    "np.random.seed(SEED)\n",
    "torch.manual_seed(SEED)\n",
    "torch.backends.cudnn.deterministic = True\n",
    "device = \"cuda\" if torch.cuda.is_available() else \"cpu\"\n",
    "\n",
    "MODEL_NAME = \"distilbert-base-uncased\"\n",
    "\n",
    "# Integers -> human-readable names (edit if your int mapping differs!)\n",
    "CLASS_NAMES = [\n",
    "    \"No PII\",\n",
    "    \"name\",\n",
    "    \"email\",\n",
    "    \"phone number\",\n",
    "    \"SSN\",\n",
    "    \"address\",\n",
    "    \"login credentials\",\n",
    "]\n",
    "NUM_LABELS = len(CLASS_NAMES)\n",
    "ID2LABEL = {i: cls for i, cls in enumerate(CLASS_NAMES)}\n",
    "LABEL2ID = {v: k for k, v in ID2LABEL.items()}\n",
    "\n",
    "print(f\"Using device: {device}\")\n",
    "print(\"Classes:\", ID2LABEL)"
   ]
  },
  {
   "cell_type": "markdown",
   "id": "58d408cf",
   "metadata": {},
   "source": [
    "### 2. Load dataset"
   ]
  },
  {
   "cell_type": "code",
   "execution_count": null,
   "id": "24c53ca6",
   "metadata": {},
   "outputs": [
    {
     "name": "stdout",
     "output_type": "stream",
     "text": [
      "Counts (binary):\n",
      "label_bin\n",
      "0    52387\n",
      "1     3823\n",
      "Name: count, dtype: int64\n",
      "Train shape: (44968, 4) Val: (5621, 4) Test: (5621, 4)\n"
     ]
    },
    {
     "data": {
      "text/html": [
       "<div>\n",
       "<style scoped>\n",
       "    .dataframe tbody tr th:only-of-type {\n",
       "        vertical-align: middle;\n",
       "    }\n",
       "\n",
       "    .dataframe tbody tr th {\n",
       "        vertical-align: top;\n",
       "    }\n",
       "\n",
       "    .dataframe thead th {\n",
       "        text-align: right;\n",
       "    }\n",
       "</style>\n",
       "<table border=\"1\" class=\"dataframe\">\n",
       "  <thead>\n",
       "    <tr style=\"text-align: right;\">\n",
       "      <th></th>\n",
       "      <th>text</th>\n",
       "      <th>label</th>\n",
       "      <th>label_id</th>\n",
       "      <th>label_bin</th>\n",
       "    </tr>\n",
       "  </thead>\n",
       "  <tbody>\n",
       "    <tr>\n",
       "      <th>23804</th>\n",
       "      <td>RE: yauth smok ng cassation</td>\n",
       "      <td>0</td>\n",
       "      <td>0</td>\n",
       "      <td>0</td>\n",
       "    </tr>\n",
       "    <tr>\n",
       "      <th>53701</th>\n",
       "      <td>(W-PM)</td>\n",
       "      <td>0</td>\n",
       "      <td>0</td>\n",
       "      <td>0</td>\n",
       "    </tr>\n",
       "    <tr>\n",
       "      <th>27830</th>\n",
       "      <td>identify</td>\n",
       "      <td>0</td>\n",
       "      <td>0</td>\n",
       "      <td>0</td>\n",
       "    </tr>\n",
       "    <tr>\n",
       "      <th>28231</th>\n",
       "      <td>for</td>\n",
       "      <td>0</td>\n",
       "      <td>0</td>\n",
       "      <td>0</td>\n",
       "    </tr>\n",
       "    <tr>\n",
       "      <th>12719</th>\n",
       "      <td>Ecb</td>\n",
       "      <td>0</td>\n",
       "      <td>0</td>\n",
       "      <td>0</td>\n",
       "    </tr>\n",
       "  </tbody>\n",
       "</table>\n",
       "</div>"
      ],
      "text/plain": [
       "                              text  label  label_id  label_bin\n",
       "23804  RE: yauth smok ng cassation      0         0          0\n",
       "53701                       (W-PM)      0         0          0\n",
       "27830                     identify      0         0          0\n",
       "28231                          for      0         0          0\n",
       "12719                          Ecb      0         0          0"
      ]
     },
     "execution_count": 79,
     "metadata": {},
     "output_type": "execute_result"
    }
   ],
   "source": [
    "CSV_PATH = \"data/dataset_large.csv\"\n",
    "\n",
    "df = pd.read_csv(CSV_PATH)\n",
    "assert {\"text\", \"label\"}.issubset(\n",
    "    df.columns\n",
    "), \"CSV must contain 'text' and 'label' columns.\"\n",
    "df = df.dropna(subset=[\"text\", \"label\"]).copy()\n",
    "\n",
    "# Ensure integer dtype\n",
    "df[\"label_id\"] = df[\"label\"].astype(int)\n",
    "\n",
    "# Validate label range\n",
    "min_lbl, max_lbl = df[\"label_id\"].min(), df[\"label_id\"].max()\n",
    "assert (\n",
    "    min_lbl >= 0 and max_lbl < NUM_LABELS\n",
    "), f\"Labels must be in [0,{NUM_LABELS-1}], got [{min_lbl},{max_lbl}]\"\n",
    "\n",
    "# Split (stratify on label_id)\n",
    "df_train, df_temp = train_test_split(\n",
    "    df, test_size=0.2, random_state=SEED, stratify=df[\"label_id\"]\n",
    ")\n",
    "df_val, df_test = train_test_split(\n",
    "    df_temp, test_size=0.5, random_state=SEED, stratify=df_temp[\"label_id\"]\n",
    ")\n",
    "\n",
    "print(\"Train/Val/Test shapes:\", df_train.shape, df_val.shape, df_test.shape)\n",
    "print(\"Train class counts:\\n\", df_train[\"label_id\"].value_counts().sort_index())\n",
    "df_train.head()"
   ]
  },
  {
   "cell_type": "markdown",
   "id": "d60e0020",
   "metadata": {},
   "source": [
    "### 3. Tokenise Dataset"
   ]
  },
  {
   "cell_type": "code",
   "execution_count": null,
   "id": "a036ef86",
   "metadata": {},
   "outputs": [
    {
     "name": "stderr",
     "output_type": "stream",
     "text": [
      "Map: 100%|██████████| 44968/44968 [00:03<00:00, 13814.79 examples/s]\n",
      "Map: 100%|██████████| 5621/5621 [00:00<00:00, 14052.39 examples/s]\n",
      "Map: 100%|██████████| 5621/5621 [00:00<00:00, 14017.26 examples/s]\n"
     ]
    }
   ],
   "source": [
    "# Tokenisation\n",
    "tokenizer = AutoTokenizer.from_pretrained(MODEL_NAME)\n",
    "\n",
    "MAX_LEN = 128\n",
    "\n",
    "\n",
    "def tokenize_batch(batch):\n",
    "    return tokenizer(\n",
    "        batch[\"text\"],\n",
    "        truncation=True,\n",
    "        padding=\"max_length\",\n",
    "        max_length=MAX_LEN,\n",
    "    )\n",
    "\n",
    "\n",
    "ds_train = Dataset.from_pandas(df_train[[\"text\", \"label_id\"]].reset_index(drop=True))\n",
    "ds_val = Dataset.from_pandas(df_val[[\"text\", \"label_id\"]].reset_index(drop=True))\n",
    "ds_test = Dataset.from_pandas(df_test[[\"text\", \"label_id\"]].reset_index(drop=True))\n",
    "\n",
    "dataset = DatasetDict({\"train\": ds_train, \"validation\": ds_val, \"test\": ds_test})\n",
    "dataset = dataset.map(tokenize_batch, batched=True)\n",
    "\n",
    "# Set columns Trainer expects\n",
    "# after tokenization:\n",
    "print(dataset.column_names)\n",
    "dataset = dataset.rename_column(\"label_id\", \"labels\")\n",
    "dataset.set_format(type=\"torch\", columns=[\"input_ids\", \"attention_mask\", \"labels\"])"
   ]
  },
  {
   "cell_type": "markdown",
   "id": "05b22b8c",
   "metadata": {},
   "source": [
    "### 4. Class weights to counter dataset imbalance"
   ]
  },
  {
   "cell_type": "code",
   "execution_count": null,
   "id": "0e6ff022",
   "metadata": {},
   "outputs": [
    {
     "name": "stdout",
     "output_type": "stream",
     "text": [
      "Class counts: {0: 41910, 1: 3058}\n",
      "Weights: [0.5364829301834106, 7.352518081665039]\n"
     ]
    }
   ],
   "source": [
    "class_counts = df_train[\"label_id\"].value_counts().sort_index()\n",
    "class_weights = (class_counts.sum() / (len(class_counts) * class_counts)).values\n",
    "class_weights = torch.tensor(class_weights, dtype=torch.float32).to(device)\n",
    "\n",
    "class_counts, class_weights"
   ]
  },
  {
   "cell_type": "markdown",
   "id": "fa85c278",
   "metadata": {},
   "source": [
    "### 5. Initialize model"
   ]
  },
  {
   "cell_type": "code",
   "execution_count": null,
   "id": "592553a2",
   "metadata": {},
   "outputs": [
    {
     "name": "stderr",
     "output_type": "stream",
     "text": [
      "Some weights of DistilBertForSequenceClassification were not initialized from the model checkpoint at distilbert-base-uncased and are newly initialized: ['classifier.bias', 'classifier.weight', 'pre_classifier.bias', 'pre_classifier.weight']\n",
      "You should probably TRAIN this model on a down-stream task to be able to use it for predictions and inference.\n"
     ]
    }
   ],
   "source": [
    "config = AutoConfig.from_pretrained(\n",
    "    MODEL_NAME,\n",
    "    num_labels=NUM_LABELS,\n",
    "    id2label=ID2LABEL,\n",
    "    label2id=LABEL2ID,\n",
    ")\n",
    "model = AutoModelForSequenceClassification.from_pretrained(\n",
    "    MODEL_NAME, config=config\n",
    ").to(device)\n",
    "\n",
    "from torch.nn import CrossEntropyLoss\n",
    "\n",
    "\n",
    "def custom_compute_loss(model, inputs, return_outputs=False):\n",
    "    labels = inputs.get(\"labels\")\n",
    "    outputs = model(\n",
    "        input_ids=inputs.get(\"input_ids\"), attention_mask=inputs.get(\"attention_mask\")\n",
    "    )\n",
    "    logits = outputs.get(\"logits\")\n",
    "    loss_fct = CrossEntropyLoss(weight=class_weights)\n",
    "    loss = loss_fct(logits.view(-1, model.num_labels), labels.view(-1))\n",
    "    return (loss, outputs) if return_outputs else loss"
   ]
  },
  {
   "cell_type": "markdown",
   "id": "13fff25e",
   "metadata": {},
   "source": [
    "### 6. Set up eval metrics"
   ]
  },
  {
   "cell_type": "code",
   "execution_count": null,
   "id": "1756d335",
   "metadata": {},
   "outputs": [],
   "source": [
    "accuracy = evaluate.load(\"accuracy\")\n",
    "f1 = evaluate.load(\"f1\")\n",
    "\n",
    "\n",
    "def compute_metrics(eval_pred):\n",
    "    logits, labels = eval_pred\n",
    "    preds = np.argmax(logits, axis=-1)\n",
    "    acc = accuracy.compute(predictions=preds, references=labels)[\"accuracy\"]\n",
    "    f1_macro = f1.compute(predictions=preds, references=labels, average=\"macro\")[\"f1\"]\n",
    "    return {\"accuracy\": acc, \"f1_macro\": f1_macro}"
   ]
  },
  {
   "cell_type": "markdown",
   "id": "5e287231",
   "metadata": {},
   "source": [
    "### 7. Training arguments and trainer class"
   ]
  },
  {
   "cell_type": "code",
   "execution_count": null,
   "id": "22736a73",
   "metadata": {},
   "outputs": [],
   "source": [
    "OUTPUT_DIR = \"distilbert-pii\"\n",
    "\n",
    "args = TrainingArguments(\n",
    "    output_dir=OUTPUT_DIR,\n",
    "    learning_rate=2e-5,\n",
    "    per_device_train_batch_size=16,\n",
    "    per_device_eval_batch_size=32,\n",
    "    num_train_epochs=4,\n",
    "    weight_decay=0.01,\n",
    "    eval_strategy=\"steps\",\n",
    "    save_strategy=\"steps\",\n",
    "    logging_steps=100,\n",
    "    eval_steps=200,\n",
    "    save_steps=200,\n",
    "    load_best_model_at_end=True,\n",
    "    metric_for_best_model=\"f1_macro\",\n",
    "    greater_is_better=True,\n",
    "    report_to=\"none\",\n",
    "    fp16=torch.cuda.is_available(),\n",
    "    seed=SEED,\n",
    ")"
   ]
  },
  {
   "cell_type": "code",
   "execution_count": null,
   "id": "9c9de139",
   "metadata": {},
   "outputs": [],
   "source": [
    "from torch.nn import CrossEntropyLoss\n",
    "from transformers import Trainer\n",
    "\n",
    "\n",
    "def custom_compute_loss(model, inputs, class_weights, return_outputs=False):\n",
    "    labels = inputs.get(\"labels\")\n",
    "    outputs = model(\n",
    "        input_ids=inputs.get(\"input_ids\"),\n",
    "        attention_mask=inputs.get(\"attention_mask\"),\n",
    "    )\n",
    "    logits = outputs.get(\"logits\")\n",
    "    loss_fct = CrossEntropyLoss(weight=class_weights)\n",
    "    loss = loss_fct(logits.view(-1, model.num_labels), labels.view(-1))\n",
    "    return (loss, outputs) if return_outputs else loss\n",
    "\n",
    "\n",
    "class WeightedLossTrainer(Trainer):\n",
    "    # Accept any future kwargs to avoid breaking when HF adds new args\n",
    "    def compute_loss(self, model, inputs, return_outputs=False, **kwargs):\n",
    "        return custom_compute_loss(\n",
    "            model, inputs, class_weights, return_outputs=return_outputs\n",
    "        )"
   ]
  },
  {
   "cell_type": "markdown",
   "id": "b875f56f",
   "metadata": {},
   "source": [
    "### 8. Model training"
   ]
  },
  {
   "cell_type": "code",
   "execution_count": 86,
   "id": "cdfd1d8e",
   "metadata": {},
   "outputs": [
    {
     "name": "stderr",
     "output_type": "stream",
     "text": [
      "C:\\Users\\GX\\AppData\\Local\\Temp\\ipykernel_31720\\3750518865.py:1: FutureWarning: `tokenizer` is deprecated and will be removed in version 5.0.0 for `WeightedLossTrainer.__init__`. Use `processing_class` instead.\n",
      "  trainer = WeightedLossTrainer(\n"
     ]
    },
    {
     "data": {
      "text/html": [
       "\n",
       "    <div>\n",
       "      \n",
       "      <progress value='1800' max='11244' style='width:300px; height:20px; vertical-align: middle;'></progress>\n",
       "      [ 1800/11244 02:38 < 13:54, 11.32 it/s, Epoch 0/4]\n",
       "    </div>\n",
       "    <table border=\"1\" class=\"dataframe\">\n",
       "  <thead>\n",
       " <tr style=\"text-align: left;\">\n",
       "      <th>Step</th>\n",
       "      <th>Training Loss</th>\n",
       "      <th>Validation Loss</th>\n",
       "      <th>Accuracy</th>\n",
       "      <th>F1 Macro</th>\n",
       "    </tr>\n",
       "  </thead>\n",
       "  <tbody>\n",
       "    <tr>\n",
       "      <td>200</td>\n",
       "      <td>0.773600</td>\n",
       "      <td>0.677270</td>\n",
       "      <td>0.929906</td>\n",
       "      <td>0.709171</td>\n",
       "    </tr>\n",
       "    <tr>\n",
       "      <td>400</td>\n",
       "      <td>0.582900</td>\n",
       "      <td>0.612748</td>\n",
       "      <td>0.926348</td>\n",
       "      <td>0.733671</td>\n",
       "    </tr>\n",
       "    <tr>\n",
       "      <td>600</td>\n",
       "      <td>0.584600</td>\n",
       "      <td>0.553575</td>\n",
       "      <td>0.916029</td>\n",
       "      <td>0.725497</td>\n",
       "    </tr>\n",
       "    <tr>\n",
       "      <td>800</td>\n",
       "      <td>0.668600</td>\n",
       "      <td>0.600761</td>\n",
       "      <td>0.920655</td>\n",
       "      <td>0.735480</td>\n",
       "    </tr>\n",
       "    <tr>\n",
       "      <td>1000</td>\n",
       "      <td>0.580000</td>\n",
       "      <td>0.460943</td>\n",
       "      <td>0.910514</td>\n",
       "      <td>0.729543</td>\n",
       "    </tr>\n",
       "    <tr>\n",
       "      <td>1200</td>\n",
       "      <td>0.527100</td>\n",
       "      <td>0.568083</td>\n",
       "      <td>0.931507</td>\n",
       "      <td>0.750964</td>\n",
       "    </tr>\n",
       "    <tr>\n",
       "      <td>1400</td>\n",
       "      <td>0.569400</td>\n",
       "      <td>0.781693</td>\n",
       "      <td>0.936132</td>\n",
       "      <td>0.749441</td>\n",
       "    </tr>\n",
       "    <tr>\n",
       "      <td>1600</td>\n",
       "      <td>0.487200</td>\n",
       "      <td>0.816437</td>\n",
       "      <td>0.936132</td>\n",
       "      <td>0.737369</td>\n",
       "    </tr>\n",
       "    <tr>\n",
       "      <td>1800</td>\n",
       "      <td>0.558300</td>\n",
       "      <td>0.569684</td>\n",
       "      <td>0.931863</td>\n",
       "      <td>0.743764</td>\n",
       "    </tr>\n",
       "  </tbody>\n",
       "</table><p>"
      ],
      "text/plain": [
       "<IPython.core.display.HTML object>"
      ]
     },
     "metadata": {},
     "output_type": "display_data"
    },
    {
     "data": {
      "text/plain": [
       "TrainOutput(global_step=1800, training_loss=0.5861889055040148, metrics={'train_runtime': 159.2062, 'train_samples_per_second': 1129.805, 'train_steps_per_second': 70.625, 'total_flos': 953765270323200.0, 'train_loss': 0.5861889055040148, 'epoch': 0.6403415154749199})"
      ]
     },
     "execution_count": 86,
     "metadata": {},
     "output_type": "execute_result"
    }
   ],
   "source": [
    "trainer = WeightedLossTrainer(\n",
    "    model=model,\n",
    "    args=args,\n",
    "    train_dataset=dataset[\"train\"],\n",
    "    eval_dataset=dataset[\"validation\"],\n",
    "    tokenizer=tokenizer,\n",
    "    compute_metrics=compute_metrics,\n",
    "    callbacks=[EarlyStoppingCallback(early_stopping_patience=3)],\n",
    ")\n",
    "\n",
    "trainer.train()"
   ]
  },
  {
   "cell_type": "markdown",
   "id": "e8515fb0",
   "metadata": {},
   "source": [
    "### 9. Model evaluation"
   ]
  },
  {
   "cell_type": "code",
   "execution_count": null,
   "id": "ac436a92",
   "metadata": {},
   "outputs": [
    {
     "data": {
      "text/html": [],
      "text/plain": [
       "<IPython.core.display.HTML object>"
      ]
     },
     "metadata": {},
     "output_type": "display_data"
    },
    {
     "name": "stdout",
     "output_type": "stream",
     "text": [
      "{'test_loss': 0.533394455909729, 'test_accuracy': 0.9295499021526419, 'test_f1_macro': 0.7401221682054444, 'test_runtime': 4.7351, 'test_samples_per_second': 1187.101, 'test_steps_per_second': 37.169}\n",
      "              precision    recall  f1-score   support\n",
      "\n",
      "      No PII       0.97      0.96      0.96      5239\n",
      "     Has PII       0.48      0.56      0.52       382\n",
      "\n",
      "    accuracy                           0.93      5621\n",
      "   macro avg       0.73      0.76      0.74      5621\n",
      "weighted avg       0.93      0.93      0.93      5621\n",
      "\n"
     ]
    },
    {
     "data": {
      "image/png": "[encoded data removed]",
      "text/plain": [
       "<Figure size 600x550 with 1 Axes>"
      ]
     },
     "metadata": {},
     "output_type": "display_data"
    }
   ],
   "source": [
    "test_out = trainer.predict(dataset[\"test\"])\n",
    "print(test_out.metrics)\n",
    "\n",
    "y_true = test_out.label_ids\n",
    "y_pred = np.argmax(test_out.predictions, axis=-1)\n",
    "\n",
    "print(classification_report(y_true, y_pred, target_names=CLASS_NAMES))\n",
    "\n",
    "\n",
    "cm = confusion_matrix(y_true, y_pred, labels=list(range(len(LABEL2ID))))\n",
    "fig, ax = plt.subplots(figsize=(6, 5.5))\n",
    "im = ax.imshow(cm)\n",
    "ax.set_xticks(range(len(LABEL2ID)))\n",
    "ax.set_xticklabels([ID2LABEL[i] for i in range(len(LABEL2ID))], rotation=45, ha=\"right\")\n",
    "ax.set_yticks(range(len(LABEL2ID)))\n",
    "ax.set_yticklabels([ID2LABEL[i] for i in range(len(LABEL2ID))])\n",
    "ax.set_title(\"Confusion Matrix\")\n",
    "ax.set_xlabel(\"Predicted\")\n",
    "ax.set_ylabel(\"True\")\n",
    "for (i, j), v in np.ndenumerate(cm):\n",
    "    ax.text(j, i, str(v), ha=\"center\", va=\"center\")\n",
    "plt.tight_layout()\n",
    "plt.show()"
   ]
  },
  {
   "cell_type": "markdown",
   "id": "b0d79787",
   "metadata": {},
   "source": [
    "### 10. Saving the trained model"
   ]
  },
  {
   "cell_type": "code",
   "execution_count": null,
   "id": "12fddd76",
   "metadata": {},
   "outputs": [],
   "source": [
    "trainer.save_model(OUTPUT_DIR)\n",
    "with open(os.path.join(OUTPUT_DIR, \"label2id.json\"), \"w\") as f:\n",
    "    json.dump(LABEL2ID, f)  # names->ids for pretty output"
   ]
  }
 ],
 "metadata": {
  "kernelspec": {
   "display_name": "myenv (3.12.4)",
   "language": "python",
   "name": "python3"
  },
  "language_info": {
   "codemirror_mode": {
    "name": "ipython",
    "version": 3
   },
   "file_extension": ".py",
   "mimetype": "text/x-python",
   "name": "python",
   "nbconvert_exporter": "python",
   "pygments_lexer": "ipython3",
   "version": "3.12.4"
  }
 },
 "nbformat": 4,
 "nbformat_minor": 5
}
